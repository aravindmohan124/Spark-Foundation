{
 "cells": [
  {
   "cell_type": "markdown",
   "id": "centered-savings",
   "metadata": {},
   "source": [
    "# <center> Prediction using Decision Tree Algorithm<center>"
   ]
  },
  {
   "cell_type": "markdown",
   "id": "sized-queens",
   "metadata": {},
   "source": [
    "## Task Number : 2\n",
    "### Prediction Using Supervised Machine Learning\n",
    "### Author: Aravind Mohan"
   ]
  },
  {
   "cell_type": "markdown",
   "id": "intense-error",
   "metadata": {},
   "source": [
    "**● Create the Decision Tree classifier and visualize it graphically.**\n",
    "\n",
    "**● The purpose is if we feed any new data to this classifier, it would be able to predict the right class accordingly.**"
   ]
  },
  {
   "cell_type": "markdown",
   "id": "floppy-scottish",
   "metadata": {},
   "source": [
    "Dataset: **Iris**"
   ]
  },
  {
   "cell_type": "markdown",
   "id": "perfect-kenya",
   "metadata": {},
   "source": [
    "#### 1. Importing Libraries"
   ]
  },
  {
   "cell_type": "code",
   "execution_count": 1,
   "id": "willing-garlic",
   "metadata": {},
   "outputs": [],
   "source": [
    "import numpy as np\n",
    "import pandas as pd\n",
    "import sklearn.datasets as ds\n",
    "import matplotlib.pyplot as plt\n",
    "import seaborn as sns\n",
    "from sklearn.tree import DecisionTreeClassifier\n",
    "from six import StringIO  \n",
    "from IPython.display import Image  \n",
    "from sklearn.tree import export_graphviz\n",
    "import pydotplus \n",
    "from sklearn.model_selection import train_test_split,GridSearchCV\n",
    "from sklearn.metrics import accuracy_score,f1_score,confusion_matrix"
   ]
  },
  {
   "cell_type": "markdown",
   "id": "satisfactory-barrier",
   "metadata": {},
   "source": [
    "#### 2. Load Data"
   ]
  },
  {
   "cell_type": "code",
   "execution_count": 2,
   "id": "worth-coverage",
   "metadata": {},
   "outputs": [],
   "source": [
    "df = pd.read_csv('https://drive.google.com/u/0/uc?id=11Iq7YvbWZbt8VXjfm06brx66b10YiwK-&export=download')"
   ]
  },
  {
   "cell_type": "code",
   "execution_count": 3,
   "id": "acceptable-kitty",
   "metadata": {},
   "outputs": [
    {
     "data": {
      "text/html": [
       "<div>\n",
       "<style scoped>\n",
       "    .dataframe tbody tr th:only-of-type {\n",
       "        vertical-align: middle;\n",
       "    }\n",
       "\n",
       "    .dataframe tbody tr th {\n",
       "        vertical-align: top;\n",
       "    }\n",
       "\n",
       "    .dataframe thead th {\n",
       "        text-align: right;\n",
       "    }\n",
       "</style>\n",
       "<table border=\"1\" class=\"dataframe\">\n",
       "  <thead>\n",
       "    <tr style=\"text-align: right;\">\n",
       "      <th></th>\n",
       "      <th>Id</th>\n",
       "      <th>SepalLengthCm</th>\n",
       "      <th>SepalWidthCm</th>\n",
       "      <th>PetalLengthCm</th>\n",
       "      <th>PetalWidthCm</th>\n",
       "      <th>Species</th>\n",
       "    </tr>\n",
       "  </thead>\n",
       "  <tbody>\n",
       "    <tr>\n",
       "      <th>0</th>\n",
       "      <td>1</td>\n",
       "      <td>5.1</td>\n",
       "      <td>3.5</td>\n",
       "      <td>1.4</td>\n",
       "      <td>0.2</td>\n",
       "      <td>Iris-setosa</td>\n",
       "    </tr>\n",
       "    <tr>\n",
       "      <th>1</th>\n",
       "      <td>2</td>\n",
       "      <td>4.9</td>\n",
       "      <td>3.0</td>\n",
       "      <td>1.4</td>\n",
       "      <td>0.2</td>\n",
       "      <td>Iris-setosa</td>\n",
       "    </tr>\n",
       "    <tr>\n",
       "      <th>2</th>\n",
       "      <td>3</td>\n",
       "      <td>4.7</td>\n",
       "      <td>3.2</td>\n",
       "      <td>1.3</td>\n",
       "      <td>0.2</td>\n",
       "      <td>Iris-setosa</td>\n",
       "    </tr>\n",
       "    <tr>\n",
       "      <th>3</th>\n",
       "      <td>4</td>\n",
       "      <td>4.6</td>\n",
       "      <td>3.1</td>\n",
       "      <td>1.5</td>\n",
       "      <td>0.2</td>\n",
       "      <td>Iris-setosa</td>\n",
       "    </tr>\n",
       "    <tr>\n",
       "      <th>4</th>\n",
       "      <td>5</td>\n",
       "      <td>5.0</td>\n",
       "      <td>3.6</td>\n",
       "      <td>1.4</td>\n",
       "      <td>0.2</td>\n",
       "      <td>Iris-setosa</td>\n",
       "    </tr>\n",
       "  </tbody>\n",
       "</table>\n",
       "</div>"
      ],
      "text/plain": [
       "   Id  SepalLengthCm  SepalWidthCm  PetalLengthCm  PetalWidthCm      Species\n",
       "0   1            5.1           3.5            1.4           0.2  Iris-setosa\n",
       "1   2            4.9           3.0            1.4           0.2  Iris-setosa\n",
       "2   3            4.7           3.2            1.3           0.2  Iris-setosa\n",
       "3   4            4.6           3.1            1.5           0.2  Iris-setosa\n",
       "4   5            5.0           3.6            1.4           0.2  Iris-setosa"
      ]
     },
     "execution_count": 3,
     "metadata": {},
     "output_type": "execute_result"
    }
   ],
   "source": [
    "df.head()"
   ]
  },
  {
   "cell_type": "markdown",
   "id": "accepting-puppy",
   "metadata": {},
   "source": [
    "Data was successfully loaded"
   ]
  },
  {
   "cell_type": "markdown",
   "id": "positive-savannah",
   "metadata": {},
   "source": [
    "#### 3. Converting Target Variable"
   ]
  },
  {
   "cell_type": "code",
   "execution_count": 4,
   "id": "operating-debut",
   "metadata": {},
   "outputs": [
    {
     "data": {
      "text/plain": [
       "Iris-setosa        50\n",
       "Iris-virginica     50\n",
       "Iris-versicolor    50\n",
       "Name: Species, dtype: int64"
      ]
     },
     "execution_count": 4,
     "metadata": {},
     "output_type": "execute_result"
    }
   ],
   "source": [
    "df['Species'].value_counts()"
   ]
  },
  {
   "cell_type": "code",
   "execution_count": 5,
   "id": "municipal-rainbow",
   "metadata": {},
   "outputs": [
    {
     "data": {
      "image/png": "[encoded data removed]",
      "text/plain": [
       "<Figure size 432x288 with 1 Axes>"
      ]
     },
     "metadata": {
      "needs_background": "light"
     },
     "output_type": "display_data"
    }
   ],
   "source": [
    "plt.figure(figsize=(6,4))\n",
    "sns.countplot(x='Species',data=df)\n",
    "plt.show()"
   ]
  },
  {
   "cell_type": "markdown",
   "id": "cutting-dayton",
   "metadata": {},
   "source": [
    "We can see that it is a multivariate classiffication problem and we can also see that the three classes are equally divided."
   ]
  },
  {
   "cell_type": "code",
   "execution_count": 6,
   "id": "returning-spring",
   "metadata": {},
   "outputs": [],
   "source": [
    "df['Species']=df['Species'].map({'Iris-setosa':0,'Iris-virginica':1,'Iris-versicolor':2})"
   ]
  },
  {
   "cell_type": "markdown",
   "id": "variable-lawrence",
   "metadata": {},
   "source": [
    "#### 4. Checking Null Values"
   ]
  },
  {
   "cell_type": "code",
   "execution_count": 7,
   "id": "quarterly-qatar",
   "metadata": {},
   "outputs": [
    {
     "data": {
      "text/plain": [
       "Id               0\n",
       "SepalLengthCm    0\n",
       "SepalWidthCm     0\n",
       "PetalLengthCm    0\n",
       "PetalWidthCm     0\n",
       "Species          0\n",
       "dtype: int64"
      ]
     },
     "execution_count": 7,
     "metadata": {},
     "output_type": "execute_result"
    }
   ],
   "source": [
    "df.isnull().sum()"
   ]
  },
  {
   "cell_type": "markdown",
   "id": "flexible-jimmy",
   "metadata": {},
   "source": [
    "There are no null values in the data."
   ]
  },
  {
   "cell_type": "markdown",
   "id": "precious-result",
   "metadata": {},
   "source": [
    "#### 5. Splitting the Data (70-30)"
   ]
  },
  {
   "cell_type": "code",
   "execution_count": 8,
   "id": "private-class",
   "metadata": {},
   "outputs": [],
   "source": [
    "X = df.drop('Species',axis=1)\n",
    "y = df['Species']"
   ]
  },
  {
   "cell_type": "code",
   "execution_count": 9,
   "id": "destroyed-purse",
   "metadata": {},
   "outputs": [],
   "source": [
    "X_train,X_test,y_train,y_test=train_test_split(X,y,test_size=0.3,random_state=42)"
   ]
  },
  {
   "cell_type": "markdown",
   "id": "broke-torture",
   "metadata": {},
   "source": [
    "The data was split into train and test, with a 70:30 ratio."
   ]
  },
  {
   "cell_type": "markdown",
   "id": "manual-studio",
   "metadata": {},
   "source": [
    "#### 6. Building the model"
   ]
  },
  {
   "cell_type": "markdown",
   "id": "gothic-street",
   "metadata": {},
   "source": [
    "Below we will build a model using the Decision Tree Classifier algorithm from the sci-kit learn module."
   ]
  },
  {
   "cell_type": "code",
   "execution_count": 10,
   "id": "spectacular-digit",
   "metadata": {},
   "outputs": [
    {
     "data": {
      "text/plain": [
       "DecisionTreeClassifier()"
      ]
     },
     "execution_count": 10,
     "metadata": {},
     "output_type": "execute_result"
    }
   ],
   "source": [
    "dtc = DecisionTreeClassifier()\n",
    "dtc.fit(X_train,y_train)"
   ]
  },
  {
   "cell_type": "code",
   "execution_count": 11,
   "id": "choice-morrison",
   "metadata": {},
   "outputs": [
    {
     "name": "stdout",
     "output_type": "stream",
     "text": [
      "Train\n",
      "F1 Score: 1.0\n",
      "Accuracy Score: 1.0\n",
      "Confusion Matrix:\n",
      " [[31  0  0]\n",
      " [ 0 37  0]\n",
      " [ 0  0 37]]\n",
      "\n",
      "\n",
      "Test\n",
      "F1 Score: 1.0\n",
      "Accuracy Score: 1.0\n",
      "Confusion Matrix:\n",
      " [[19  0  0]\n",
      " [ 0 13  0]\n",
      " [ 0  0 13]]\n"
     ]
    }
   ],
   "source": [
    "y_train_pred=dtc.predict(X_train)\n",
    "\n",
    "print('Train')\n",
    "print('F1 Score:',f1_score(y_train,y_train_pred,average='weighted'))\n",
    "print('Accuracy Score:',accuracy_score(y_train,y_train_pred))\n",
    "print('Confusion Matrix:\\n',confusion_matrix(y_train,y_train_pred))\n",
    "\n",
    "y_test_pred=dtc.predict(X_test)\n",
    "\n",
    "print('\\n\\nTest')\n",
    "print('F1 Score:',f1_score(y_test,y_test_pred,average='weighted'))\n",
    "print('Accuracy Score:',accuracy_score(y_test,y_test_pred))\n",
    "print('Confusion Matrix:\\n',confusion_matrix(y_test,y_test_pred))"
   ]
  },
  {
   "cell_type": "markdown",
   "id": "proud-cooper",
   "metadata": {},
   "source": [
    "Visualizing the Decision Tree Algorithm:"
   ]
  },
  {
   "cell_type": "code",
   "execution_count": 12,
   "id": "architectural-oregon",
   "metadata": {},
   "outputs": [
    {
     "data": {
      "image/png": "[encoded data removed]",
      "text/plain": [
       "<IPython.core.display.Image object>"
      ]
     },
     "execution_count": 12,
     "metadata": {},
     "output_type": "execute_result"
    }
   ],
   "source": [
    "dot_data = StringIO()\n",
    "export_graphviz(dtc, out_file=dot_data, feature_names=X.columns,  \n",
    "                filled=True, rounded=True,\n",
    "                special_characters=True)\n",
    "graph = pydotplus.graph_from_dot_data(dot_data.getvalue())  \n",
    "Image(graph.create_png())"
   ]
  },
  {
   "cell_type": "markdown",
   "id": "hearing-magnitude",
   "metadata": {},
   "source": [
    "As you can see, the model that has been built here predicts the classes very well. The train and test scores are similar. Considering the data we have with us the model built is very good."
   ]
  },
  {
   "cell_type": "markdown",
   "id": "refined-beads",
   "metadata": {},
   "source": [
    "But you can see that the accuracy scores is perfect indicating data leak or that the data we have here is not diverse enough. We need a larger amount of data to understand the features better and predict the classes."
   ]
  }
 ],
 "metadata": {
  "kernelspec": {
   "display_name": "Python 3",
   "language": "python",
   "name": "python3"
  },
  "language_info": {
   "codemirror_mode": {
    "name": "ipython",
    "version": 3
   },
   "file_extension": ".py",
   "mimetype": "text/x-python",
   "name": "python",
   "nbconvert_exporter": "python",
   "pygments_lexer": "ipython3",
   "version": "3.8.8"
  }
 },
 "nbformat": 4,
 "nbformat_minor": 5
}
